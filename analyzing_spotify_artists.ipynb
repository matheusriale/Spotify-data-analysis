{
 "cells": [
  {
   "cell_type": "code",
   "execution_count": null,
   "id": "94540a75",
   "metadata": {},
   "outputs": [],
   "source": []
  },
  {
   "cell_type": "code",
   "execution_count": null,
   "id": "dd70e750",
   "metadata": {},
   "outputs": [],
   "source": []
  },
  {
   "cell_type": "markdown",
   "id": "5ed34c24",
   "metadata": {},
   "source": [
    "## Getting credentials from Spotify API"
   ]
  },
  {
   "cell_type": "code",
   "execution_count": 6,
   "id": "69825a11",
   "metadata": {},
   "outputs": [],
   "source": [
    "# FILL IN THESE VALUES WITH YOUR OWN KEYS\n",
    "# client_id = \"\"\n",
    "# client_secret = \"\"\n",
    "\n",
    "# Make sure to add this on \"Edit Settings\" in your Dashboard\n",
    "redirect_uri = \"http://localhost:9000\""
   ]
  },
  {
   "cell_type": "markdown",
   "id": "ed88eeb6",
   "metadata": {},
   "source": [
    "## Connecting With spotipy library"
   ]
  },
  {
   "cell_type": "code",
   "execution_count": null,
   "id": "77c3cd0d",
   "metadata": {},
   "outputs": [],
   "source": [
    "# you should have spotipy installed. Download it with:\n",
    "# pip install spotipy "
   ]
  },
  {
   "cell_type": "code",
   "execution_count": 3,
   "id": "2712def4",
   "metadata": {},
   "outputs": [],
   "source": [
    "import spotipy"
   ]
  },
  {
   "cell_type": "code",
   "execution_count": 4,
   "id": "558d729d",
   "metadata": {},
   "outputs": [],
   "source": [
    "from spotipy.oauth2 import SpotifyOAuth"
   ]
  },
  {
   "cell_type": "markdown",
   "id": "e247e6ec",
   "metadata": {},
   "source": [
    "Now we will connect with spotify. We need also to define the scope of our App, list of scopes can be found here: https://developer.spotify.com/documentation/general/guides/authorization/scopes/ "
   ]
  },
  {
   "cell_type": "code",
   "execution_count": 7,
   "id": "b9759d37",
   "metadata": {},
   "outputs": [],
   "source": [
    "# Connect to API Keys created earlier\n",
    "scope = \"user_read_recently_played\"\n",
    "sp = spotipy.Spotify(auth_manager=SpotifyOAuth(scope=scope,\n",
    "                                              client_id=client_id,\n",
    "                                              client_secret=client_secret,\n",
    "                                              redirect_uri=redirect_uri))"
   ]
  },
  {
   "cell_type": "markdown",
   "id": "e781ed90",
   "metadata": {},
   "source": [
    "## Testing the API "
   ]
  },
  {
   "cell_type": "code",
   "execution_count": null,
   "id": "295f77f0",
   "metadata": {},
   "outputs": [],
   "source": []
  }
 ],
 "metadata": {
  "kernelspec": {
   "display_name": "Python 3 (ipykernel)",
   "language": "python",
   "name": "python3"
  },
  "language_info": {
   "codemirror_mode": {
    "name": "ipython",
    "version": 3
   },
   "file_extension": ".py",
   "mimetype": "text/x-python",
   "name": "python",
   "nbconvert_exporter": "python",
   "pygments_lexer": "ipython3",
   "version": "3.9.12"
  }
 },
 "nbformat": 4,
 "nbformat_minor": 5
}
