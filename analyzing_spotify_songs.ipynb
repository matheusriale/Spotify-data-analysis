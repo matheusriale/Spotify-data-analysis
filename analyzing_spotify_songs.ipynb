{
 "cells": [
  {
   "cell_type": "markdown",
   "id": "3ba6409a",
   "metadata": {},
   "source": [
    "## Spotify data analysis"
   ]
  },
  {
   "cell_type": "markdown",
   "id": "f0fd3e87",
   "metadata": {},
   "source": [
    "Using spotify API to analyze some of my favorite spotify artists data. Hope you like the project."
   ]
  },
  {
   "cell_type": "markdown",
   "id": "5ed34c24",
   "metadata": {},
   "source": [
    "## Getting credentials from Spotify API"
   ]
  },
  {
   "cell_type": "code",
   "execution_count": 7,
   "id": "69825a11",
   "metadata": {},
   "outputs": [],
   "source": [
    "# FILL IN THESE VALUES WITH YOUR OWN KEYS, go to  https://developer.spotify.com/dashboard/\n",
    "client_id = \"\"\n",
    "client_secret = \"\"\n",
    "\n",
    "# Make sure to add this on \"Edit Settings\" in your Dashboard\n",
    "redirect_uri = \"http://localhost:9000\""
   ]
  },
  {
   "cell_type": "markdown",
   "id": "ed88eeb6",
   "metadata": {},
   "source": [
    "## Connecting With spotipy library"
   ]
  },
  {
   "cell_type": "code",
   "execution_count": 2,
   "id": "77c3cd0d",
   "metadata": {},
   "outputs": [],
   "source": [
    "# you should have spotipy installed. Download it with:\n",
    "# pip install spotipy "
   ]
  },
  {
   "cell_type": "code",
   "execution_count": 8,
   "id": "2712def4",
   "metadata": {},
   "outputs": [],
   "source": [
    "import spotipy"
   ]
  },
  {
   "cell_type": "code",
   "execution_count": 9,
   "id": "558d729d",
   "metadata": {},
   "outputs": [],
   "source": [
    "from spotipy.oauth2 import SpotifyOAuth"
   ]
  },
  {
   "cell_type": "markdown",
   "id": "e247e6ec",
   "metadata": {},
   "source": [
    "Now we will connect with spotify. We need also to define the scope of our App, list of scopes can be found here: https://developer.spotify.com/documentation/general/guides/authorization/scopes/ "
   ]
  },
  {
   "cell_type": "code",
   "execution_count": 10,
   "id": "b9759d37",
   "metadata": {},
   "outputs": [],
   "source": [
    "# Connect to API Keys created earlier\n",
    "scope = \"user-read-recently-played\"\n",
    "sp = spotipy.Spotify(auth_manager=SpotifyOAuth(scope=scope,\n",
    "                                              client_id=client_id,\n",
    "                                              client_secret=client_secret,\n",
    "                                              redirect_uri=redirect_uri))"
   ]
  },
  {
   "cell_type": "markdown",
   "id": "e781ed90",
   "metadata": {},
   "source": [
    "## Testing the API "
   ]
  },
  {
   "cell_type": "markdown",
   "id": "0067fa02",
   "metadata": {},
   "source": [
    "Exploring our most recently 50 played songs using Spotipy."
   ]
  },
  {
   "cell_type": "code",
   "execution_count": 6,
   "id": "61cec180",
   "metadata": {},
   "outputs": [],
   "source": [
    "# Running this should open a new tab, click \"agree\"\n",
    "results = sp.current_user_recently_played()"
   ]
  },
  {
   "cell_type": "code",
   "execution_count": 7,
   "id": "2528fc33",
   "metadata": {},
   "outputs": [
    {
     "data": {
      "text/plain": [
       "dict"
      ]
     },
     "execution_count": 7,
     "metadata": {},
     "output_type": "execute_result"
    }
   ],
   "source": [
    "type(results)"
   ]
  },
  {
   "cell_type": "code",
   "execution_count": 8,
   "id": "2671702d",
   "metadata": {},
   "outputs": [
    {
     "data": {
      "text/plain": [
       "dict_keys(['items', 'next', 'cursors', 'limit', 'href'])"
      ]
     },
     "execution_count": 8,
     "metadata": {},
     "output_type": "execute_result"
    }
   ],
   "source": [
    "results.keys()"
   ]
  },
  {
   "cell_type": "code",
   "execution_count": 10,
   "id": "09f0c00c",
   "metadata": {},
   "outputs": [
    {
     "name": "stdout",
     "output_type": "stream",
     "text": [
      "0.)Dynasties and Dystopia (from the series Arcane League of Legends) by Denzel Curry, Gizzle, Bren Joy\n",
      "1.)Our Love (from the series Arcane League of Legends) by Curtis Harding, Jazmine Sullivan\n",
      "2.)Playground (from the series Arcane League of Legends) by Bea Miller\n",
      "3.)What Could Have Been feat. Ray Chen (from the series Arcane League of Legends) by Sting, Ray Chen\n",
      "4.)What Could Have Been feat. Ray Chen (from the series Arcane League of Legends) by Sting, Ray Chen\n",
      "5.)En rêve, S. 207 \"Nocturne\" by Franz Liszt, Olivier Moulin\n",
      "6.)Piano Sonata No. 2 in F Major, K. 280: II. Adagio by Wolfgang Amadeus Mozart, Mitsuko Uchida\n",
      "7.)Air on the G String from Orchestral Suite No. 3 in D Major, BWV 1068 by Johann Sebastian Bach, Khatia Buniatishvili\n",
      "8.)Debussy: Suite bergamasque, CD 82, L. 75: III. Clair de lune by Claude Debussy, Moura Lympany\n",
      "9.)Chopin: Nocturne No. 2 in E-Flat Major, Op. 9 No. 2 by Frédéric Chopin, John Ogdon\n",
      "10.)First Step by Peter J. Malmsjö\n",
      "11.)7 Canciones Populares Españolas: No. 6, Canción by Manuel de Falla, Luke Faulkner\n",
      "12.)Gnossiennes: No. 5, Modéré by Erik Satie, Pascal Rogé\n",
      "13.)Moonlight Sonata (1st Movement) by Rousseau\n",
      "14.)The Seasons, Op. 37a - May: Starlit Nights (G major) by Pyotr Ilyich Tchaikovsky, Anton Fink\n",
      "15.)Consolation No.3 by Franz Liszt, Rousseau\n",
      "16.)Lieder ohne Worte, Op. 19: No. 2 in A Minor (Andante espressivo), MWV U 80 by Felix Mendelssohn, Daniel Barenboim\n",
      "17.)Waltz in A Minor, Op. Posth., B. 150 by Frédéric Chopin, Vittorio Forte\n",
      "18.)Gymnopédie No. 1 by Erik Satie, Philippe Entremont\n",
      "19.)En rêve, S. 207 \"Nocturne\" by Franz Liszt, Olivier Moulin\n",
      "20.)Piano Sonata No. 2 in F Major, K. 280: II. Adagio by Wolfgang Amadeus Mozart, Mitsuko Uchida\n",
      "21.)Air on the G String from Orchestral Suite No. 3 in D Major, BWV 1068 by Johann Sebastian Bach, Khatia Buniatishvili\n",
      "22.)Debussy: Suite bergamasque, CD 82, L. 75: III. Clair de lune by Claude Debussy, Moura Lympany\n",
      "23.)Chopin: Nocturne No. 2 in E-Flat Major, Op. 9 No. 2 by Frédéric Chopin, John Ogdon\n",
      "24.)First Step by Peter J. Malmsjö\n",
      "25.)7 Canciones Populares Españolas: No. 6, Canción by Manuel de Falla, Luke Faulkner\n",
      "26.)Gnossiennes: No. 5, Modéré by Erik Satie, Pascal Rogé\n",
      "27.)Moonlight Sonata (1st Movement) by Rousseau\n",
      "28.)The Seasons, Op. 37a - May: Starlit Nights (G major) by Pyotr Ilyich Tchaikovsky, Anton Fink\n",
      "29.)Consolation No.3 by Franz Liszt, Rousseau\n",
      "30.)Lieder ohne Worte, Op. 19: No. 2 in A Minor (Andante espressivo), MWV U 80 by Felix Mendelssohn, Daniel Barenboim\n",
      "31.)Waltz in A Minor, Op. Posth., B. 150 by Frédéric Chopin, Vittorio Forte\n",
      "32.)Gymnopédie No. 1 by Erik Satie, Philippe Entremont\n",
      "33.)En rêve, S. 207 \"Nocturne\" by Franz Liszt, Olivier Moulin\n",
      "34.)Piano Sonata No. 2 in F Major, K. 280: II. Adagio by Wolfgang Amadeus Mozart, Mitsuko Uchida\n",
      "35.)Air on the G String from Orchestral Suite No. 3 in D Major, BWV 1068 by Johann Sebastian Bach, Khatia Buniatishvili\n",
      "36.)Debussy: Suite bergamasque, CD 82, L. 75: III. Clair de lune by Claude Debussy, Moura Lympany\n",
      "37.)Chopin: Nocturne No. 2 in E-Flat Major, Op. 9 No. 2 by Frédéric Chopin, John Ogdon\n",
      "38.)First Step by Peter J. Malmsjö\n",
      "39.)7 Canciones Populares Españolas: No. 6, Canción by Manuel de Falla, Luke Faulkner\n",
      "40.)Gnossiennes: No. 5, Modéré by Erik Satie, Pascal Rogé\n",
      "41.)Moonlight Sonata (1st Movement) by Rousseau\n",
      "42.)The Seasons, Op. 37a - May: Starlit Nights (G major) by Pyotr Ilyich Tchaikovsky, Anton Fink\n",
      "43.)Consolation No.3 by Franz Liszt, Rousseau\n",
      "44.)Lieder ohne Worte, Op. 19: No. 2 in A Minor (Andante espressivo), MWV U 80 by Felix Mendelssohn, Daniel Barenboim\n",
      "45.)Waltz in A Minor, Op. Posth., B. 150 by Frédéric Chopin, Vittorio Forte\n",
      "46.)Gymnopédie No. 1 by Erik Satie, Philippe Entremont\n",
      "47.)En rêve, S. 207 \"Nocturne\" by Franz Liszt, Olivier Moulin\n",
      "48.)Piano Sonata No. 2 in F Major, K. 280: II. Adagio by Wolfgang Amadeus Mozart, Mitsuko Uchida\n",
      "49.)Air on the G String from Orchestral Suite No. 3 in D Major, BWV 1068 by Johann Sebastian Bach, Khatia Buniatishvili\n"
     ]
    }
   ],
   "source": [
    "for idx,item in enumerate(results['items']):\n",
    "    track_id = item['track']\n",
    "    track_name = track_id['name']\n",
    "    # Assuming one artist name, but its a list for collabs\n",
    "    artist_name = track_id['artists'][0]['name']\n",
    "    \n",
    "    # Now We will try to format for multiple artists (optional)\n",
    "    cont = 0\n",
    "    # While loop to grab every artist in the song (if we have more than 1 artist in it)\n",
    "    while track_id['artists'][cont]['name'] != track_id['artists'][len(track_id['artists'])-1]['name']:\n",
    "        if artist_name != track_id['artists'][cont]['name']:\n",
    "            artist_name = artist_name +\", \" + track_id['artists'][cont]['name'] # To not repeat first artist\n",
    "        cont = cont + 1\n",
    "        # Now we will check if this is the last artist of the song\n",
    "        if cont == len(track_id['artists'])-1: \n",
    "            artist_name = artist_name +\", \" + (track_id['artists'][cont]['name'])\n",
    "            # artist_name contains all the artists, example artist_name = \"artist_1, artist_2, ..., artist_n\"\n",
    "    print(f\"{idx}.){track_name} by {artist_name}\")"
   ]
  },
  {
   "cell_type": "markdown",
   "id": "beee4689",
   "metadata": {},
   "source": [
    "Yes i am in the classical music mood recently :)."
   ]
  },
  {
   "cell_type": "markdown",
   "id": "058a8651",
   "metadata": {},
   "source": [
    "## Analyzing Cigarettes after Sex' albums"
   ]
  },
  {
   "cell_type": "code",
   "execution_count": 11,
   "id": "f084d747",
   "metadata": {},
   "outputs": [],
   "source": [
    "# Look up the artist in spotify.com you should see the ID in the URL.\n",
    "# Going to look up one of my favorite artists 'Cigarettes After Sex'\n",
    "cigarettes = sp.artist('1QAJqy2dA3ihHBFIHRphZj') "
   ]
  },
  {
   "cell_type": "code",
   "execution_count": 12,
   "id": "943b5924",
   "metadata": {},
   "outputs": [
    {
     "data": {
      "text/plain": [
       "{'external_urls': {'spotify': 'https://open.spotify.com/artist/1QAJqy2dA3ihHBFIHRphZj'},\n",
       " 'followers': {'href': None, 'total': 6246910},\n",
       " 'genres': ['ambient pop', 'dream pop', 'el paso indie', 'pop', 'shoegaze'],\n",
       " 'href': 'https://api.spotify.com/v1/artists/1QAJqy2dA3ihHBFIHRphZj',\n",
       " 'id': '1QAJqy2dA3ihHBFIHRphZj',\n",
       " 'images': [{'height': 640,\n",
       "   'url': 'https://i.scdn.co/image/ab6761610000e5ebfe9c808643258ecd6770aa7d',\n",
       "   'width': 640},\n",
       "  {'height': 320,\n",
       "   'url': 'https://i.scdn.co/image/ab67616100005174fe9c808643258ecd6770aa7d',\n",
       "   'width': 320},\n",
       "  {'height': 160,\n",
       "   'url': 'https://i.scdn.co/image/ab6761610000f178fe9c808643258ecd6770aa7d',\n",
       "   'width': 160}],\n",
       " 'name': 'Cigarettes After Sex',\n",
       " 'popularity': 84,\n",
       " 'type': 'artist',\n",
       " 'uri': 'spotify:artist:1QAJqy2dA3ihHBFIHRphZj'}"
      ]
     },
     "execution_count": 12,
     "metadata": {},
     "output_type": "execute_result"
    }
   ],
   "source": [
    "cigarettes"
   ]
  },
  {
   "cell_type": "markdown",
   "id": "171a1326",
   "metadata": {},
   "source": [
    "Now, let's get cigarettes' albums"
   ]
  },
  {
   "cell_type": "code",
   "execution_count": 14,
   "id": "898f5b69",
   "metadata": {},
   "outputs": [],
   "source": [
    "cig_albums = sp.artist_albums(cigarettes['id'],limit=50)"
   ]
  },
  {
   "cell_type": "code",
   "execution_count": 17,
   "id": "e547543b",
   "metadata": {},
   "outputs": [
    {
     "name": "stdout",
     "output_type": "stream",
     "text": [
      "Album: Cry | ID: 6fUVptFdeOgcqDvCZzM2kC\n",
      "Album: Cigarettes After Sex | ID: 5bP82ZIls6rzhpf5Qu6AzC\n",
      "Album: Pistol | ID: 681myoJD0vQ3rCpF15ECcP\n",
      "Album: You're All I Want | ID: 5lU2BUnMIIe6JcbqV9LXtS\n",
      "Album: Falling In Love | ID: 4h00nTNYLaUNRJ9wulDJ4n\n",
      "Album: Heavenly | ID: 7kFz92XFqgJ1mAOlbZT3ky\n",
      "Album: Neon Moon | ID: 2tjHky2gRChxTuNQpDvKMm\n",
      "Album: Neon Moon | ID: 6FK5W4oYErMLFvHejmezpL\n",
      "Album: Crush | ID: 5m3edD6VcJ23DxiLPwjDaB\n",
      "Album: Sweet | ID: 6PTw9mQyGYtc44WPIOtDwf\n",
      "Album: Each Time You Fall In Love | ID: 36zDj4tegPkmqMcM3bSH1O\n",
      "Album: Apocalypse | ID: 564QQTwHHe2OxlruKXzi9r\n",
      "Album: K. | ID: 33qYH2dRlz8DSCWFYZB1Fc\n",
      "Album: Affection | ID: 5MdPMGnu8UZlDrrF0nQEKL\n",
      "Album: Affection | ID: 4zBZX3bPIQkJMY0CaTGFKh\n",
      "Album: I. | ID: 6w9osZGOS8B7XWW51SBwFT\n",
      "Album: EP I. | ID: 12UGkXT4z3ajgq6xheCGDk\n"
     ]
    }
   ],
   "source": [
    "for album in cig_albums['items']:\n",
    "    print(f\"Album: {album['name']} | ID: {album['id']}\")"
   ]
  },
  {
   "cell_type": "markdown",
   "id": "17416ade",
   "metadata": {},
   "source": [
    "## Cleaning the data"
   ]
  },
  {
   "cell_type": "markdown",
   "id": "b67f7af1",
   "metadata": {},
   "source": [
    "Dropping the duplicates and create a clean list of album ids."
   ]
  },
  {
   "cell_type": "code",
   "execution_count": 21,
   "id": "379202fc",
   "metadata": {},
   "outputs": [
    {
     "name": "stdout",
     "output_type": "stream",
     "text": [
      "Cry\n",
      "Cig\n",
      "Pis\n",
      "You\n",
      "Fal\n",
      "Hea\n",
      "Neo\n",
      "Neo\n",
      "Cru\n",
      "Swe\n",
      "Eac\n",
      "Apo\n",
      "K.\n",
      "Aff\n",
      "Aff\n",
      "I.\n",
      "EP \n"
     ]
    }
   ],
   "source": [
    "album_names = []\n",
    "albums = []\n",
    "\n",
    "for album in cig_albums['items']:\n",
    "    album_name = album['name']\n",
    "    album_id = album['id']\n",
    "    # Checking for duplicates or alternate versions\n",
    "    if album_name[:3] not in album_names and \"remix\" not in album_name and \"Karaoke\" not in album_name and \"Live\" not in album_name:\n",
    "        album_names.append(album_name[:3] )\n",
    "        albums.append((album_name,album_id))"
   ]
  },
  {
   "cell_type": "code",
   "execution_count": 19,
   "id": "91114ac2",
   "metadata": {},
   "outputs": [
    {
     "data": {
      "text/plain": [
       "[('Cry', '6fUVptFdeOgcqDvCZzM2kC'),\n",
       " ('Cigarettes After Sex', '5bP82ZIls6rzhpf5Qu6AzC'),\n",
       " ('Pistol', '681myoJD0vQ3rCpF15ECcP'),\n",
       " (\"You're All I Want\", '5lU2BUnMIIe6JcbqV9LXtS'),\n",
       " ('Falling In Love', '4h00nTNYLaUNRJ9wulDJ4n'),\n",
       " ('Heavenly', '7kFz92XFqgJ1mAOlbZT3ky'),\n",
       " ('Neon Moon', '2tjHky2gRChxTuNQpDvKMm'),\n",
       " ('Crush', '5m3edD6VcJ23DxiLPwjDaB'),\n",
       " ('Sweet', '6PTw9mQyGYtc44WPIOtDwf'),\n",
       " ('Each Time You Fall In Love', '36zDj4tegPkmqMcM3bSH1O'),\n",
       " ('Apocalypse', '564QQTwHHe2OxlruKXzi9r'),\n",
       " ('K.', '33qYH2dRlz8DSCWFYZB1Fc'),\n",
       " ('Affection', '5MdPMGnu8UZlDrrF0nQEKL'),\n",
       " ('I.', '6w9osZGOS8B7XWW51SBwFT'),\n",
       " ('EP I.', '12UGkXT4z3ajgq6xheCGDk')]"
      ]
     },
     "execution_count": 19,
     "metadata": {},
     "output_type": "execute_result"
    }
   ],
   "source": [
    "albums"
   ]
  },
  {
   "cell_type": "code",
   "execution_count": 22,
   "id": "aec2ba49",
   "metadata": {},
   "outputs": [],
   "source": [
    "# Cry and Cigarettes After Sex are their only albums\n",
    "# We will drop some of the older singles\n",
    "final_album_list = albums[:-5]"
   ]
  },
  {
   "cell_type": "code",
   "execution_count": 23,
   "id": "2392aec3",
   "metadata": {},
   "outputs": [
    {
     "data": {
      "text/plain": [
       "[('Cry', '6fUVptFdeOgcqDvCZzM2kC'),\n",
       " ('Cigarettes After Sex', '5bP82ZIls6rzhpf5Qu6AzC'),\n",
       " ('Pistol', '681myoJD0vQ3rCpF15ECcP'),\n",
       " (\"You're All I Want\", '5lU2BUnMIIe6JcbqV9LXtS'),\n",
       " ('Falling In Love', '4h00nTNYLaUNRJ9wulDJ4n'),\n",
       " ('Heavenly', '7kFz92XFqgJ1mAOlbZT3ky'),\n",
       " ('Neon Moon', '2tjHky2gRChxTuNQpDvKMm'),\n",
       " ('Crush', '5m3edD6VcJ23DxiLPwjDaB'),\n",
       " ('Sweet', '6PTw9mQyGYtc44WPIOtDwf'),\n",
       " ('Each Time You Fall In Love', '36zDj4tegPkmqMcM3bSH1O')]"
      ]
     },
     "execution_count": 23,
     "metadata": {},
     "output_type": "execute_result"
    }
   ],
   "source": [
    "final_album_list"
   ]
  }
 ],
 "metadata": {
  "kernelspec": {
   "display_name": "Python 3 (ipykernel)",
   "language": "python",
   "name": "python3"
  },
  "language_info": {
   "codemirror_mode": {
    "name": "ipython",
    "version": 3
   },
   "file_extension": ".py",
   "mimetype": "text/x-python",
   "name": "python",
   "nbconvert_exporter": "python",
   "pygments_lexer": "ipython3",
   "version": "3.9.12"
  }
 },
 "nbformat": 4,
 "nbformat_minor": 5
}
